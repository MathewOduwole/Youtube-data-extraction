{
 "cells": [
  {
   "cell_type": "code",
   "execution_count": 4,
   "id": "96d9a927",
   "metadata": {},
   "outputs": [],
   "source": [
    "#import libraries \n",
    "\n",
    "from apiclient.discovery import build\n",
    "from apiclient.errors import HttpError \n",
    "from oauth2client.tools import argparser \n",
    "import pandas as pd "
   ]
  },
  {
   "cell_type": "code",
   "execution_count": null,
   "id": "1fee130a",
   "metadata": {},
   "outputs": [],
   "source": []
  },
  {
   "cell_type": "code",
   "execution_count": null,
   "id": "049bf54b",
   "metadata": {},
   "outputs": [],
   "source": [
    "import os\n",
    "\n",
    "youTubeApiKey = os.environ.get('YOUTUBE_API_KEY')"
   ]
  },
  {
   "cell_type": "code",
   "execution_count": null,
   "id": "def6d18d",
   "metadata": {},
   "outputs": [],
   "source": []
  },
  {
   "cell_type": "code",
   "execution_count": 16,
   "id": "4900f086",
   "metadata": {},
   "outputs": [
    {
     "name": "stdout",
     "output_type": "stream",
     "text": [
      "Data saved to The Studio_data.csv\n"
     ]
    }
   ],
   "source": [
    "import csv\n",
    "from googleapiclient.discovery import build\n",
    "\n",
    "#YouTube API key\n",
    "youTubeApiKey = os.environ.get('YOUTUBE_API_KEY')\n",
    "\n",
    "youtube = build('youtube', 'v3', developerKey=youTubeApiKey)\n",
    "\n",
    "# Channel ID of the YouTube channel\n",
    "channelId = 'UCG7J20LhUeLl6y_Emi7OJrA'\n",
    "\n",
    "# Requesting channel data\n",
    "channel_data = youtube.channels().list(part='snippet,statistics,contentDetails', id=channelId).execute()\n",
    "\n",
    "if \"items\" in channel_data and len(channel_data[\"items\"]) > 0:\n",
    "    channel_info = channel_data[\"items\"][0]\n",
    "\n",
    "    # Extracting relevant data\n",
    "    channel_title = channel_info[\"snippet\"][\"title\"]\n",
    "    channel_description = channel_info[\"snippet\"][\"description\"]\n",
    "    view_count = channel_info[\"statistics\"][\"viewCount\"]\n",
    "    subscriber_count = channel_info[\"statistics\"][\"subscriberCount\"]\n",
    "    video_count = channel_info[\"statistics\"][\"videoCount\"]\n",
    "\n",
    "    # Creating a CSV file and writing the data\n",
    "    csv_filename = f\"{channel_title}_data.csv\"\n",
    "    with open(csv_filename, mode=\"w\", newline='', encoding='utf-8') as csv_file:\n",
    "        csv_writer = csv.writer(csv_file)\n",
    "        csv_writer.writerow([\"Channel Title\", \"Channel Description\", \"View Count\", \"Subscriber Count\", \"Video Count\"])\n",
    "        csv_writer.writerow([channel_title, channel_description, view_count, subscriber_count, video_count])\n",
    "\n",
    "    print(f\"Data saved to {csv_filename}\")\n",
    "else:\n",
    "    print(\"Channel not found or no data available.\")\n"
   ]
  },
  {
   "cell_type": "code",
   "execution_count": 18,
   "id": "14cc7d33",
   "metadata": {},
   "outputs": [
    {
     "data": {
      "text/html": [
       "<div>\n",
       "<style scoped>\n",
       "    .dataframe tbody tr th:only-of-type {\n",
       "        vertical-align: middle;\n",
       "    }\n",
       "\n",
       "    .dataframe tbody tr th {\n",
       "        vertical-align: top;\n",
       "    }\n",
       "\n",
       "    .dataframe thead th {\n",
       "        text-align: right;\n",
       "    }\n",
       "</style>\n",
       "<table border=\"1\" class=\"dataframe\">\n",
       "  <thead>\n",
       "    <tr style=\"text-align: right;\">\n",
       "      <th></th>\n",
       "      <th>Channel Title</th>\n",
       "      <th>Channel Description</th>\n",
       "      <th>View Count</th>\n",
       "      <th>Subscriber Count</th>\n",
       "      <th>Video Count</th>\n",
       "    </tr>\n",
       "  </thead>\n",
       "  <tbody>\n",
       "    <tr>\n",
       "      <th>0</th>\n",
       "      <td>The Studio</td>\n",
       "      <td>Behind-the-scenes content, event reactions, ch...</td>\n",
       "      <td>34412843</td>\n",
       "      <td>764000</td>\n",
       "      <td>88</td>\n",
       "    </tr>\n",
       "  </tbody>\n",
       "</table>\n",
       "</div>"
      ],
      "text/plain": [
       "  Channel Title                                Channel Description  \\\n",
       "0    The Studio  Behind-the-scenes content, event reactions, ch...   \n",
       "\n",
       "   View Count  Subscriber Count  Video Count  \n",
       "0    34412843            764000           88  "
      ]
     },
     "execution_count": 18,
     "metadata": {},
     "output_type": "execute_result"
    }
   ],
   "source": [
    "df = pd.read_csv('The Studio_data.csv')\n",
    "df.head()"
   ]
  },
  {
   "cell_type": "code",
   "execution_count": null,
   "id": "7f5401f3",
   "metadata": {},
   "outputs": [],
   "source": []
  },
  {
   "cell_type": "code",
   "execution_count": null,
   "id": "8efee5a0",
   "metadata": {},
   "outputs": [],
   "source": []
  },
  {
   "cell_type": "code",
   "execution_count": 19,
   "id": "805908e5",
   "metadata": {},
   "outputs": [
    {
     "name": "stdout",
     "output_type": "stream",
     "text": [
      "Data saved to The Studio_video_data.csv\n"
     ]
    }
   ],
   "source": [
    "import csv\n",
    "from googleapiclient.discovery import build\n",
    "\n",
    "youTubeApiKey = os.environ.get('YOUTUBE_API_KEY')\n",
    "\n",
    "youtube = build('youtube', 'v3', developerKey=youTubeApiKey)\n",
    "\n",
    "channelId = 'UCG7J20LhUeLl6y_Emi7OJrA'\n",
    "\n",
    "channel_data = youtube.channels().list(part='snippet,statistics,contentDetails', id=channelId).execute()\n",
    "\n",
    "if \"items\" in channel_data and len(channel_data[\"items\"]) > 0:\n",
    "    channel_info = channel_data[\"items\"][0]\n",
    "\n",
    "    channel_title = channel_info[\"snippet\"][\"title\"]\n",
    "\n",
    "    # Request playlist data (uploads playlist)\n",
    "    uploads_playlist_id = channel_info[\"contentDetails\"][\"relatedPlaylists\"][\"uploads\"]\n",
    "    playlist_items = youtube.playlistItems().list(part='snippet', playlistId=uploads_playlist_id, maxResults=50).execute()\n",
    "\n",
    "    # Creating a CSV file and then write the data\n",
    "    csv_filename = f\"{channel_title}_video_data.csv\"\n",
    "    with open(csv_filename, mode=\"w\", newline='', encoding='utf-8') as csv_file:\n",
    "        csv_writer = csv.writer(csv_file)\n",
    "        csv_writer.writerow([\"Video Title\", \"Video Description\", \"View Count\", \"Published Date\"])\n",
    "\n",
    "        for item in playlist_items[\"items\"]:\n",
    "            video_id = item[\"snippet\"][\"resourceId\"][\"videoId\"]\n",
    "            video_data = youtube.videos().list(part='snippet,statistics', id=video_id).execute()\n",
    "\n",
    "            video_title = video_data[\"items\"][0][\"snippet\"][\"title\"]\n",
    "            video_description = video_data[\"items\"][0][\"snippet\"][\"description\"]\n",
    "            view_count = video_data[\"items\"][0][\"statistics\"][\"viewCount\"]\n",
    "            published_date = video_data[\"items\"][0][\"snippet\"][\"publishedAt\"]\n",
    "\n",
    "            csv_writer.writerow([video_title, video_description, view_count, published_date])\n",
    "\n",
    "    print(f\"Data saved to {csv_filename}\")\n",
    "else:\n",
    "    print(\"Channel not found or no data available.\")\n"
   ]
  },
  {
   "cell_type": "code",
   "execution_count": 21,
   "id": "d0869908",
   "metadata": {},
   "outputs": [
    {
     "data": {
      "text/html": [
       "<div>\n",
       "<style scoped>\n",
       "    .dataframe tbody tr th:only-of-type {\n",
       "        vertical-align: middle;\n",
       "    }\n",
       "\n",
       "    .dataframe tbody tr th {\n",
       "        vertical-align: top;\n",
       "    }\n",
       "\n",
       "    .dataframe thead th {\n",
       "        text-align: right;\n",
       "    }\n",
       "</style>\n",
       "<table border=\"1\" class=\"dataframe\">\n",
       "  <thead>\n",
       "    <tr style=\"text-align: right;\">\n",
       "      <th></th>\n",
       "      <th>Video Title</th>\n",
       "      <th>Video Description</th>\n",
       "      <th>View Count</th>\n",
       "      <th>Published Date</th>\n",
       "    </tr>\n",
       "  </thead>\n",
       "  <tbody>\n",
       "    <tr>\n",
       "      <th>0</th>\n",
       "      <td>Fortnite and Marques Brownlee!</td>\n",
       "      <td>You can now visit The Studio..... In Fortnite\\...</td>\n",
       "      <td>23474</td>\n",
       "      <td>2023-08-26T17:00:25Z</td>\n",
       "    </tr>\n",
       "    <tr>\n",
       "      <th>1</th>\n",
       "      <td>How You Can Visit the MKBHD Studio!</td>\n",
       "      <td>Yahhhh. Skip the plane ticket and fire up your...</td>\n",
       "      <td>156488</td>\n",
       "      <td>2023-08-25T18:17:33Z</td>\n",
       "    </tr>\n",
       "    <tr>\n",
       "      <th>2</th>\n",
       "      <td>How We Shot the Quickest Car in the World!</td>\n",
       "      <td>The Studio visits @TheTripleFCollection in Ohi...</td>\n",
       "      <td>174087</td>\n",
       "      <td>2023-08-18T23:14:00Z</td>\n",
       "    </tr>\n",
       "    <tr>\n",
       "      <th>3</th>\n",
       "      <td>It's National S'mores Day, apparently #shorts</td>\n",
       "      <td>NaN</td>\n",
       "      <td>38516</td>\n",
       "      <td>2023-08-10T18:13:48Z</td>\n",
       "    </tr>\n",
       "    <tr>\n",
       "      <th>4</th>\n",
       "      <td>Can You 3D Print A Camera?</td>\n",
       "      <td>Cameras are cool. But are they complicated? No...</td>\n",
       "      <td>237774</td>\n",
       "      <td>2023-08-03T21:47:07Z</td>\n",
       "    </tr>\n",
       "  </tbody>\n",
       "</table>\n",
       "</div>"
      ],
      "text/plain": [
       "                                     Video Title  \\\n",
       "0                 Fortnite and Marques Brownlee!   \n",
       "1            How You Can Visit the MKBHD Studio!   \n",
       "2     How We Shot the Quickest Car in the World!   \n",
       "3  It's National S'mores Day, apparently #shorts   \n",
       "4                     Can You 3D Print A Camera?   \n",
       "\n",
       "                                   Video Description  View Count  \\\n",
       "0  You can now visit The Studio..... In Fortnite\\...       23474   \n",
       "1  Yahhhh. Skip the plane ticket and fire up your...      156488   \n",
       "2  The Studio visits @TheTripleFCollection in Ohi...      174087   \n",
       "3                                                NaN       38516   \n",
       "4  Cameras are cool. But are they complicated? No...      237774   \n",
       "\n",
       "         Published Date  \n",
       "0  2023-08-26T17:00:25Z  \n",
       "1  2023-08-25T18:17:33Z  \n",
       "2  2023-08-18T23:14:00Z  \n",
       "3  2023-08-10T18:13:48Z  \n",
       "4  2023-08-03T21:47:07Z  "
      ]
     },
     "execution_count": 21,
     "metadata": {},
     "output_type": "execute_result"
    }
   ],
   "source": [
    "df2 = pd.read_csv('The Studio_video_data.csv')\n",
    "df2.head()"
   ]
  },
  {
   "cell_type": "code",
   "execution_count": 23,
   "id": "4324b003",
   "metadata": {},
   "outputs": [],
   "source": [
    "from IPython.display import display, FileLink"
   ]
  },
  {
   "cell_type": "code",
   "execution_count": 24,
   "id": "9322c737",
   "metadata": {},
   "outputs": [
    {
     "data": {
      "text/html": [
       "<a href='The Studio_video_data.csv' target='_blank'>The Studio_video_data.csv</a><br>"
      ],
      "text/plain": [
       "C:\\Users\\habay\\The Studio_video_data.csv"
      ]
     },
     "metadata": {},
     "output_type": "display_data"
    }
   ],
   "source": [
    "display(FileLink(csv_filename))\n"
   ]
  },
  {
   "cell_type": "code",
   "execution_count": null,
   "id": "cda2b138",
   "metadata": {},
   "outputs": [],
   "source": []
  },
  {
   "cell_type": "code",
   "execution_count": null,
   "id": "1ed03efc",
   "metadata": {},
   "outputs": [],
   "source": []
  },
  {
   "cell_type": "code",
   "execution_count": null,
   "id": "0a036694",
   "metadata": {},
   "outputs": [],
   "source": []
  }
 ],
 "metadata": {
  "kernelspec": {
   "display_name": "Python 3",
   "language": "python",
   "name": "python3"
  },
  "language_info": {
   "codemirror_mode": {
    "name": "ipython",
    "version": 3
   },
   "file_extension": ".py",
   "mimetype": "text/x-python",
   "name": "python",
   "nbconvert_exporter": "python",
   "pygments_lexer": "ipython3",
   "version": "3.8.8"
  }
 },
 "nbformat": 4,
 "nbformat_minor": 5
}
